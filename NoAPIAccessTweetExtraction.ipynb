{
  "nbformat": 4,
  "nbformat_minor": 0,
  "metadata": {
    "colab": {
      "provenance": []
    },
    "kernelspec": {
      "name": "python3",
      "display_name": "Python 3"
    },
    "language_info": {
      "name": "python"
    }
  },
  "cells": [
    {
      "cell_type": "markdown",
      "source": [
        "# Tweet Extraction with the Twint Library\n",
        "Allows for the extraction of tweets from Twitter without the need to access [Twitter's API](https://developer.twitter.com/en/docs/twitter-api/getting-started/getting-access-to-the-twitter-api) which now costs money to access.\n",
        "\n",
        "Relevant Links:<br>\n",
        "[Official PyPi](https://pypi.org/project/twint/) <br>\n",
        "[Medium Blog / Article](https://basilkjose.medium.com/twint-twitter-scraping-without-twitters-api-aca8ba1b210e#:~:text=What%20is%20Twint%20%3F,scraping%20Tweets%20from%20Twitter%20profiles%20.) <br>\n",
        "[Kaggle Discussion Page / Post](https://www.kaggle.com/general/207512) <br>\n",
        "[Twint Status](https://www.reddit.com/r/Python/comments/vb8cmu/twint_python_twitter_crawler_no_longer_being/) <br>\n",
        "[Twint Usage](https://www.reddit.com/r/OSINT/comments/1101aud/anyone_familiar_with_the_opensource_twitter_api/)"
      ],
      "metadata": {
        "id": "da7IhnzJcVMc"
      }
    },
    {
      "cell_type": "code",
      "execution_count": null,
      "metadata": {
        "id": "zJU3dFWsN3jT"
      },
      "outputs": [],
      "source": [
        "#!pip3 install twint\n",
        "#!pip3 uninstall twint\n",
        "#!pip3 install --user --upgrade \"git+https://github.com/twintproject/twint.git@origin/master#egg=twint\""
      ]
    },
    {
      "cell_type": "code",
      "source": [
        "import twint\n",
        "\n",
        "# Configure and set up the details of what is to be scrapped\n",
        "user = twint.Config()\n",
        "\n",
        "tweetExtractCount = input(\"Enter the number of tweets you would like to scrape:\") # Get user input for number of tweets\n",
        "user.Limit = tweetExtractCount  # Limit : Number of tweets to pull."
      ],
      "metadata": {
        "id": "hCpebyiiOdoE"
      },
      "execution_count": null,
      "outputs": []
    },
    {
      "cell_type": "code",
      "source": [
        "twitterUsername = input(\"Enter the username of the Twitter user which you would like to extract tweets from:\")\n",
        "user.Username = twitterUsername"
      ],
      "metadata": {
        "id": "AA-kV6piY8nc"
      },
      "execution_count": null,
      "outputs": []
    },
    {
      "cell_type": "code",
      "source": [
        "# Optional Settings\n",
        "user.Lang = \"en\"\n",
        "user.Hide_output = True\n",
        "user.Since = '2022-10-12'     # Since : Filter tweets from this date.\n",
        "user.Until= '2023-01-20'      # Until : Filter tweets up to this date.\n",
        "#user.Images= True            # Images : Display only tweets with images .\n",
        "#user.Videos = True           # Videos : Display only tweets with videos.\n",
        "user.Media = True             # Media : Display tweets with only images or videos.\n",
        "user.Popular_tweets = True    # Popular_tweets : Scrape popular tweets ,most recent(default=False)\n",
        "user.Min_likes = 50           # Min_likes : Filter tweets by minimum number of likes.\n",
        "user.Min_replies = 10         # Min_retweets : Filter tweets by minimum number of retweets.\n",
        "user.Min_retweets = 10        # Min_replies : Filter tweets by minimum number of replies."
      ],
      "metadata": {
        "id": "00ruNQJ8gRld"
      },
      "execution_count": null,
      "outputs": []
    },
    {
      "cell_type": "code",
      "source": [
        "!pip install nest_asyncio\n",
        "import nest_asyncio\n",
        "nest_asyncio.apply()"
      ],
      "metadata": {
        "id": "zeNAiEQSar-e"
      },
      "execution_count": null,
      "outputs": []
    },
    {
      "cell_type": "code",
      "source": [
        "import pandas as pd\n",
        "\n",
        "twint.run.Search(user)                      # run and search twint\n",
        "Tweets_df = twint.storage.panda.Tweets_df   # store scrapped data in pandas dataframe\n",
        "print(Tweets_df)                            # print out pandas dataframe"
      ],
      "metadata": {
        "id": "Dg5XausLZQNb"
      },
      "execution_count": null,
      "outputs": []
    },
    {
      "cell_type": "code",
      "source": [
        "# Optional Display - Displays Tweets using HTML and requests library\n",
        "from IPython.display import HTML\n",
        "import requests\n",
        "\n",
        "def show_tweet(link):\n",
        "    '''Display the contents of a tweet. '''\n",
        "    url = 'https://publish.twitter.com/oembed?url=%s' % link\n",
        "    response = requests.get(url)\n",
        "    html = response.json()[\"html\"]\n",
        "    display(HTML(html))\n",
        "sample_tweet_link = Tweets_df.sample(1)['link'].values[0]\n",
        "display(sample_tweet_link)\n",
        "show_tweet(sample_tweet_link)"
      ],
      "metadata": {
        "id": "yqEWR34EhqW5"
      },
      "execution_count": null,
      "outputs": []
    }
  ]
}